{
 "cells": [
  {
   "cell_type": "markdown",
   "id": "cfcbf004",
   "metadata": {},
   "source": [
    "#### <center> Keras-tuner based hyper-parameter tuning using Bayesian Optimization"
   ]
  },
  {
   "cell_type": "markdown",
   "id": "026b13a9",
   "metadata": {},
   "source": [
    "Importing few of the required packages:"
   ]
  },
  {
   "cell_type": "code",
   "execution_count": 1,
   "id": "27a6c354",
   "metadata": {},
   "outputs": [],
   "source": [
    "import pandas as pd\n",
    "from matplotlib import pyplot as plt\n",
    "import numpy as np\n",
    "%matplotlib inline  \n",
    "#will make plot outputs appear and be stored within the notebook.\n",
    "import random\n",
    "import tensorflow as tf\n",
    "from tensorflow import keras\n",
    "\n",
    "# plt.style.reload_library()\n",
    "# plt.style.use([ 'science', 'ieee','notebook'])\n",
    "\n",
    "import warnings\n",
    "warnings.filterwarnings('ignore')"
   ]
  },
  {
   "cell_type": "markdown",
   "id": "ffc6547d",
   "metadata": {},
   "source": [
    "Following block will control the randomness of simulation i.e., simulation will give same results for each run as long as seed is fixed for different packages like numpy and tensorflow etc."
   ]
  },
  {
   "cell_type": "code",
   "execution_count": 2,
   "id": "56865db3",
   "metadata": {},
   "outputs": [],
   "source": [
    "import os\n",
    "SEED = 42\n",
    "\n",
    "os.environ['PYTHONHASHSEED'] =str(SEED)\n",
    "os.environ['TF_CUDNN_DETERMINISTIC'] = '1'\n",
    "\n",
    "random.seed(SEED)\n",
    "np.random.seed(SEED)\n",
    "tf.random.set_seed(SEED)"
   ]
  },
  {
   "cell_type": "markdown",
   "id": "c1f59206",
   "metadata": {},
   "source": [
    "Loading dataset:"
   ]
  },
  {
   "cell_type": "code",
   "execution_count": 3,
   "id": "d2bbfa17",
   "metadata": {},
   "outputs": [],
   "source": [
    "fashion_mnist = tf.keras.datasets.fashion_mnist\n",
    "\n",
    "#load data\n",
    "(train_images, train_labels), (test_images, test_labels) = fashion_mnist.load_data()"
   ]
  },
  {
   "cell_type": "code",
   "execution_count": 4,
   "id": "5fe89c0c",
   "metadata": {},
   "outputs": [
    {
     "data": {
      "text/plain": [
       "(60000, 28, 28)"
      ]
     },
     "execution_count": 4,
     "metadata": {},
     "output_type": "execute_result"
    }
   ],
   "source": [
    "train_images.shape"
   ]
  },
  {
   "cell_type": "code",
   "execution_count": 5,
   "id": "8d05b2f3",
   "metadata": {},
   "outputs": [],
   "source": [
    "# splitting data into train, validation and test sets\n",
    "# 10% of the training dataset will be used for validation\n",
    "\n",
    "from sklearn.model_selection import train_test_split\n",
    "\n",
    "train_x, val_x, train_y, val_y = train_test_split(train_images, train_labels, stratify=train_labels, random_state= SEED, test_size=0.1)\n",
    "(test_x, test_y)=(test_images, test_labels)"
   ]
  },
  {
   "cell_type": "code",
   "execution_count": 6,
   "id": "43cb23bf",
   "metadata": {},
   "outputs": [],
   "source": [
    "#normalizing pixel values to range 0-1\n",
    "\n",
    "train_x = train_x / 255.0\n",
    "val_x = val_x / 255.0\n",
    "test_x = test_x / 255.0"
   ]
  },
  {
   "cell_type": "code",
   "execution_count": 7,
   "id": "b6079142",
   "metadata": {},
   "outputs": [
    {
     "data": {
      "text/plain": [
       "array([8, 9, 8, ..., 6, 1, 9], dtype=uint8)"
      ]
     },
     "execution_count": 7,
     "metadata": {},
     "output_type": "execute_result"
    }
   ],
   "source": [
    "train_y"
   ]
  },
  {
   "cell_type": "code",
   "execution_count": 8,
   "id": "b9a09ba7",
   "metadata": {},
   "outputs": [],
   "source": [
    "#encoding target variable\n",
    "\n",
    "from tensorflow.keras.utils import to_categorical\n",
    "\n",
    "train_y = to_categorical(train_y)\n",
    "val_y = to_categorical(val_y)\n",
    "test_y = to_categorical(test_y)"
   ]
  },
  {
   "cell_type": "code",
   "execution_count": 9,
   "id": "98b259ec",
   "metadata": {},
   "outputs": [
    {
     "name": "stdout",
     "output_type": "stream",
     "text": [
      "(54000, 28, 28)\n",
      "(54000, 10)\n",
      "(6000, 28, 28)\n",
      "(6000, 10)\n",
      "(10000, 28, 28)\n",
      "(10000, 10)\n"
     ]
    }
   ],
   "source": [
    "print(train_x.shape)  #(54000, 28, 28)\n",
    "print(train_y.shape)  #(54000, 10)\n",
    "print(val_x.shape)    #(6000, 28, 28)\n",
    "print(val_y.shape)    #(6000, 10)\n",
    "print(test_x.shape)   #(10000, 28, 28)\n",
    "print(test_y.shape)   #(10000, 10)"
   ]
  },
  {
   "cell_type": "markdown",
   "id": "e3c6a313",
   "metadata": {},
   "source": [
    "Neural network part:"
   ]
  },
  {
   "cell_type": "code",
   "execution_count": 10,
   "id": "11e68ea1",
   "metadata": {},
   "outputs": [],
   "source": [
    "from tensorflow.keras.layers import Input, Dense, Flatten, Dropout, BatchNormalization \n",
    "from tensorflow.keras.models import Model, Sequential \n",
    "from tensorflow.keras.optimizers import Adam"
   ]
  },
  {
   "cell_type": "markdown",
   "id": "c2e09610",
   "metadata": {},
   "source": [
    "<!-- Hyperparameter Tuning -->"
   ]
  },
  {
   "cell_type": "markdown",
   "id": "169bf53c",
   "metadata": {},
   "source": [
    "# Hyperparameter Tuning"
   ]
  },
  {
   "cell_type": "code",
   "execution_count": 11,
   "id": "85126ceb",
   "metadata": {},
   "outputs": [],
   "source": [
    "from tensorflow.keras.callbacks import EarlyStopping\n",
    "import keras_tuner as kt"
   ]
  },
  {
   "cell_type": "code",
   "execution_count": 14,
   "id": "5f03327a",
   "metadata": {},
   "outputs": [],
   "source": [
    "class MyHyperModel(kt.HyperModel):\n",
    "    \n",
    "    def build(self, hp):\n",
    "\n",
    "        model = Sequential()\n",
    "        model.add(Flatten(input_shape=(28, 28)))\n",
    "\n",
    "        counter = 0\n",
    "\n",
    "        for i in range (hp.Int('num_layers', min_value = 1 , max_value = 10)):\n",
    "\n",
    "            if counter == 0:\n",
    "                model.add(Dense(\n",
    "                    hp.Int('units' + str(i), min_value = 8, max_value = 128),\n",
    "                    activation = hp.Choice('activation'+ str(i), values = ['relu', 'tanh', 'gelu']),\n",
    "                    input_dim = 28 *28))   #only for the first layer\n",
    "                model.add(Dropout(hp.Choice('dropout'+ str(i), values = [0.,0.1,0.2,0.3,0.4,0.5])))\n",
    "                model.add(BatchNormalization (momentum = hp.Choice('momentum'+ str(i), values = [0.7,0.8,0.9,0.95])))\n",
    "            else:\n",
    "                model.add(Dense(\n",
    "                    hp.Int('units' + str(i), min_value = 8, max_value = 128),\n",
    "                    activation = hp.Choice('activation'+ str(i), values = ['relu', 'tanh', 'gelu'])))\n",
    "                model.add(Dropout(hp.Choice('dropout'+ str(i), values = [0., 0.1,0.2,0.3,0.4,0.5])))\n",
    "                model.add(BatchNormalization (momentum = hp.Choice('momentum'+ str(i), values = [0.7,0.8,0.9,0.95])))\n",
    "\n",
    "            counter += 1\n",
    "\n",
    "        model.add(Dense(10, activation= 'softmax'))\n",
    "\n",
    "        model.compile(optimizer = hp.Choice('optimizer', values = ['adam', 'nadam']),\n",
    "                     loss='categorical_crossentropy', metrics=['accuracy'])\n",
    "\n",
    "        return model\n",
    "    \n",
    "\n",
    "    def fit(self, hp, model, *args, **kwargs):\n",
    "        \n",
    "        return model.fit(\n",
    "            *args,\n",
    "            batch_size=hp.Choice(\"batch_size\", [8, 16, 32]),\n",
    "            **kwargs,\n",
    "        )"
   ]
  },
  {
   "cell_type": "markdown",
   "id": "e68eff6c",
   "metadata": {},
   "source": [
    "Initializing Bayesian Optimizer:"
   ]
  },
  {
   "cell_type": "code",
   "execution_count": 15,
   "id": "91badd78",
   "metadata": {},
   "outputs": [],
   "source": [
    "tuner = kt.BayesianOptimization(MyHyperModel(),\n",
    "    objective=\"val_accuracy\",\n",
    "    max_trials=10,\n",
    "    overwrite=True,\n",
    "    alpha=0.0001,   #using default value: refer to documentation of keras tuner for more details\n",
    "    beta=2.6,       #using default value: refer to documentation of keras tuner for more details\n",
    "    seed=SEED,\n",
    "    directory=\"my_dir\",\n",
    "    project_name=\"tune_hypermodel\")"
   ]
  },
  {
   "cell_type": "code",
   "execution_count": 16,
   "id": "ceee87d5",
   "metadata": {
    "scrolled": false
   },
   "outputs": [
    {
     "name": "stdout",
     "output_type": "stream",
     "text": [
      "Trial 10 Complete [00h 11m 38s]\n",
      "val_accuracy: 0.8576666712760925\n",
      "\n",
      "Best val_accuracy So Far: 0.8778333067893982\n",
      "Total elapsed time: 02h 36m 38s\n",
      "INFO:tensorflow:Oracle triggered exit\n"
     ]
    }
   ],
   "source": [
    "# Will stop training if the \"val_acc\" improves in 3 epochs\n",
    "\n",
    "tuner.search(train_x, train_y, epochs = 10, validation_data=(val_x, val_y), callbacks=[tf.keras.callbacks.EarlyStopping(\"val_accuracy\", mode ='max', restore_best_weights = True, patience=3)])"
   ]
  },
  {
   "cell_type": "code",
   "execution_count": 17,
   "id": "ee02daff",
   "metadata": {},
   "outputs": [
    {
     "data": {
      "text/plain": [
       "{'num_layers': 1,\n",
       " 'units0': 46,\n",
       " 'activation0': 'tanh',\n",
       " 'dropout0': 0.0,\n",
       " 'momentum0': 0.7,\n",
       " 'optimizer': 'nadam',\n",
       " 'units1': 8,\n",
       " 'activation1': 'relu',\n",
       " 'dropout1': 0.0,\n",
       " 'momentum1': 0.7,\n",
       " 'units2': 8,\n",
       " 'activation2': 'relu',\n",
       " 'dropout2': 0.0,\n",
       " 'momentum2': 0.7,\n",
       " 'units3': 8,\n",
       " 'activation3': 'relu',\n",
       " 'dropout3': 0.0,\n",
       " 'momentum3': 0.7,\n",
       " 'units4': 8,\n",
       " 'activation4': 'relu',\n",
       " 'dropout4': 0.0,\n",
       " 'momentum4': 0.7,\n",
       " 'units5': 8,\n",
       " 'activation5': 'relu',\n",
       " 'dropout5': 0.0,\n",
       " 'momentum5': 0.7,\n",
       " 'units6': 8,\n",
       " 'activation6': 'relu',\n",
       " 'dropout6': 0.0,\n",
       " 'momentum6': 0.7,\n",
       " 'batch_size': 8,\n",
       " 'units7': 8,\n",
       " 'activation7': 'relu',\n",
       " 'dropout7': 0.0,\n",
       " 'momentum7': 0.7,\n",
       " 'units8': 8,\n",
       " 'activation8': 'relu',\n",
       " 'dropout8': 0.0,\n",
       " 'momentum8': 0.7,\n",
       " 'units9': 8,\n",
       " 'activation9': 'relu',\n",
       " 'dropout9': 0.0,\n",
       " 'momentum9': 0.7}"
      ]
     },
     "execution_count": 17,
     "metadata": {},
     "output_type": "execute_result"
    }
   ],
   "source": [
    "# Get the optimal hyperparameters\n",
    "\n",
    "best_hps=tuner.get_best_hyperparameters()[0].values\n",
    "best_hps"
   ]
  },
  {
   "cell_type": "code",
   "execution_count": 18,
   "id": "f2a091b0",
   "metadata": {
    "scrolled": false
   },
   "outputs": [],
   "source": [
    "# tuner.results_summary()"
   ]
  },
  {
   "cell_type": "code",
   "execution_count": 19,
   "id": "32b6a553",
   "metadata": {
    "scrolled": false
   },
   "outputs": [
    {
     "name": "stdout",
     "output_type": "stream",
     "text": [
      "Model: \"sequential\"\n",
      "_________________________________________________________________\n",
      " Layer (type)                Output Shape              Param #   \n",
      "=================================================================\n",
      " flatten (Flatten)           (None, 784)               0         \n",
      "                                                                 \n",
      " dense (Dense)               (None, 46)                36110     \n",
      "                                                                 \n",
      " dropout (Dropout)           (None, 46)                0         \n",
      "                                                                 \n",
      " batch_normalization (BatchN  (None, 46)               184       \n",
      " ormalization)                                                   \n",
      "                                                                 \n",
      " dense_1 (Dense)             (None, 10)                470       \n",
      "                                                                 \n",
      "=================================================================\n",
      "Total params: 36,764\n",
      "Trainable params: 36,672\n",
      "Non-trainable params: 92\n",
      "_________________________________________________________________\n"
     ]
    }
   ],
   "source": [
    "tuned_model = tuner.get_best_models(num_models=1)[0]\n",
    "tuned_model.summary()"
   ]
  },
  {
   "cell_type": "code",
   "execution_count": 20,
   "id": "7744049f",
   "metadata": {},
   "outputs": [
    {
     "name": "stdout",
     "output_type": "stream",
     "text": [
      "Epoch 1/30\n",
      "6750/6750 [==============================] - 64s 9ms/step - loss: 0.3632 - accuracy: 0.8712 - val_loss: 0.3894 - val_accuracy: 0.8748\n",
      "Epoch 2/30\n",
      "6750/6750 [==============================] - 59s 9ms/step - loss: 0.3633 - accuracy: 0.8721 - val_loss: 0.4376 - val_accuracy: 0.8753\n",
      "Epoch 3/30\n",
      "6750/6750 [==============================] - 62s 9ms/step - loss: 0.3567 - accuracy: 0.8756 - val_loss: 0.4236 - val_accuracy: 0.8690\n",
      "Epoch 4/30\n",
      "6750/6750 [==============================] - 61s 9ms/step - loss: 0.3528 - accuracy: 0.8759 - val_loss: 0.3481 - val_accuracy: 0.8832\n",
      "Epoch 5/30\n",
      "6750/6750 [==============================] - 60s 9ms/step - loss: 0.3472 - accuracy: 0.8777 - val_loss: 0.4809 - val_accuracy: 0.8805\n",
      "Epoch 6/30\n",
      "6750/6750 [==============================] - 61s 9ms/step - loss: 0.3430 - accuracy: 0.8784 - val_loss: 0.4484 - val_accuracy: 0.8735\n",
      "Epoch 7/30\n",
      "6750/6750 [==============================] - 57s 8ms/step - loss: 0.3394 - accuracy: 0.8807 - val_loss: 0.4254 - val_accuracy: 0.8742\n"
     ]
    },
    {
     "data": {
      "text/plain": [
       "<keras.callbacks.History at 0x146c5344af0>"
      ]
     },
     "execution_count": 20,
     "metadata": {},
     "output_type": "execute_result"
    }
   ],
   "source": [
    "tuned_model.fit(train_x, train_y, epochs = 30, batch_size = best_hps.get('batch_size'), validation_data=(val_x, val_y), callbacks=[tf.keras.callbacks.EarlyStopping(\"val_accuracy\", mode ='max', restore_best_weights = True, patience=3)])"
   ]
  },
  {
   "cell_type": "code",
   "execution_count": 21,
   "id": "f0ac097a",
   "metadata": {},
   "outputs": [
    {
     "name": "stdout",
     "output_type": "stream",
     "text": [
      "Performance on Test Data : \n",
      "\n",
      "313/313 [==============================] - 1s 4ms/step - loss: 0.4187 - accuracy: 0.8663\n",
      "\n",
      "\n",
      "Classification Report : \n",
      "\n",
      "              precision    recall  f1-score   support\n",
      "\n",
      "           0       0.82      0.84      0.83      1000\n",
      "           1       0.99      0.96      0.97      1000\n",
      "           2       0.75      0.81      0.78      1000\n",
      "           3       0.87      0.88      0.88      1000\n",
      "           4       0.81      0.71      0.76      1000\n",
      "           5       0.98      0.91      0.94      1000\n",
      "           6       0.64      0.67      0.66      1000\n",
      "           7       0.92      0.96      0.94      1000\n",
      "           8       0.97      0.96      0.97      1000\n",
      "           9       0.93      0.96      0.95      1000\n",
      "\n",
      "    accuracy                           0.87     10000\n",
      "   macro avg       0.87      0.87      0.87     10000\n",
      "weighted avg       0.87      0.87      0.87     10000\n",
      "\n",
      "\n",
      "\n",
      "Confusion Matrix : \n",
      "\n"
     ]
    },
    {
     "data": {
      "text/plain": [
       "Text(69.0, 0.5, 'Truth')"
      ]
     },
     "execution_count": 21,
     "metadata": {},
     "output_type": "execute_result"
    },
    {
     "data": {
      "image/png": "[encoded data removed]",
      "text/plain": [
       "<Figure size 720x504 with 2 Axes>"
      ]
     },
     "metadata": {
      "needs_background": "light"
     },
     "output_type": "display_data"
    }
   ],
   "source": [
    "from sklearn.metrics import confusion_matrix , classification_report\n",
    "import seaborn as sn\n",
    "\n",
    "print('Performance on Test Data : \\n')\n",
    "\n",
    "tuned_model.evaluate(test_x, test_y)\n",
    "    \n",
    "y_predicted = tuned_model.predict(test_x)   ##gives values between 0 and 1\n",
    "\n",
    "y_predicted_labels = [np.argmax(i) for i in y_predicted]   #to extract labels\n",
    "y_labels = [np.argmax(i) for i in test_y]   #to extract labels    \n",
    "    \n",
    "cm = tf.math.confusion_matrix(labels=y_labels ,predictions=y_predicted_labels)\n",
    "    \n",
    "print('\\n\\nClassification Report : \\n')\n",
    "print(classification_report(y_labels ,y_predicted_labels))\n",
    "    \n",
    "print('\\n\\nConfusion Matrix : \\n')\n",
    "    \n",
    "plt.figure(figsize = (10,7))\n",
    "sn.heatmap(cm, annot=True, fmt='d')\n",
    "plt.xlabel('Predicted')\n",
    "plt.ylabel('Truth')"
   ]
  },
  {
   "cell_type": "markdown",
   "id": "fe1623aa",
   "metadata": {},
   "source": [
    "#### Sources:\n",
    "\n",
    "[1] https://keras.io/guides/keras_tuner/getting_started/#tune-model-training\n",
    "\n",
    "[2] https://www.youtube.com/watch?v=oYnyNLj8RMA&ab_channel=CampusX\n"
   ]
  },
  {
   "cell_type": "code",
   "execution_count": null,
   "id": "aa0767f8",
   "metadata": {},
   "outputs": [],
   "source": []
  }
 ],
 "metadata": {
  "kernelspec": {
   "display_name": "Python 3 (ipykernel)",
   "language": "python",
   "name": "python3"
  },
  "language_info": {
   "codemirror_mode": {
    "name": "ipython",
    "version": 3
   },
   "file_extension": ".py",
   "mimetype": "text/x-python",
   "name": "python",
   "nbconvert_exporter": "python",
   "pygments_lexer": "ipython3",
   "version": "3.9.7"
  }
 },
 "nbformat": 4,
 "nbformat_minor": 5
}
